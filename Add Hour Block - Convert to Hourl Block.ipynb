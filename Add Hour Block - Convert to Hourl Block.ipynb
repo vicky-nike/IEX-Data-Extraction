{
 "cells": [
  {
   "cell_type": "markdown",
   "metadata": {},
   "source": [
    "Convert TimeBlock to Hour Format\n"
   ]
  },
  {
   "cell_type": "code",
   "execution_count": 4,
   "metadata": {},
   "outputs": [
    {
     "name": "stdout",
     "output_type": "stream",
     "text": [
      "             Date  Year  Month  Day  Time Block  Hour      MCP\n",
      "0      01-04-2019  2019      4    1           1     1  3603.72\n",
      "1      01-04-2019  2019      4    1           2     1  3595.96\n",
      "2      01-04-2019  2019      4    1           3     1  3549.83\n",
      "3      01-04-2019  2019      4    1           4     1  3537.81\n",
      "4      01-04-2019  2019      4    1           5     2  3437.31\n",
      "...           ...   ...    ...  ...         ...   ...      ...\n",
      "35131  31-03-2020  2020      3   31          92    23  1989.27\n",
      "35132  31-03-2020  2020      3   31          93    24  1999.19\n",
      "35133  31-03-2020  2020      3   31          94    24  1999.01\n",
      "35134  31-03-2020  2020      3   31          95    24  1989.93\n",
      "35135  31-03-2020  2020      3   31          96    24  1999.15\n",
      "\n",
      "[35136 rows x 7 columns]\n"
     ]
    }
   ],
   "source": [
    "import pandas as pd\n",
    "import numpy as np\n",
    "\n",
    "filename = \"IEX DAM FY20.csv\"\n",
    "\n",
    "df = pd.read_csv(filename)\n",
    "df.insert(2, 'Hour', np.nan)\n",
    "\n",
    "# Insert a new column named \"Hour\" and convert the 1-96 time block to 1-24 hour format\n",
    "df['Hour'] = ((df['Time Block'] - 1) // 4) + 1\n",
    "\n",
    "print(df)"
   ]
  },
  {
   "cell_type": "markdown",
   "metadata": {},
   "source": [
    "Converting whole Dataset to Hourly data by taking average"
   ]
  },
  {
   "cell_type": "code",
   "execution_count": 5,
   "metadata": {},
   "outputs": [],
   "source": [
    "# Take the average of the same timestamp using the hour column\n",
    "average_df = df.groupby(['Date', 'Hour'])['MCP'].mean().reset_index()\n",
    "\n",
    "average_df.to_csv(filename, index=False, index_label=None)"
   ]
  },
  {
   "cell_type": "markdown",
   "metadata": {},
   "source": [
    "To Get sum of Energy"
   ]
  },
  {
   "cell_type": "code",
   "execution_count": 42,
   "metadata": {},
   "outputs": [],
   "source": [
    "# Take the average of the same timestamp using the hour column\n",
    "sum_df = df.groupby(['Date', 'Hour'])['MCP'].sum().reset_index()\n",
    "\n",
    "sum_df.to_csv(\"1_\"+filename, index=False, index_label=None)"
   ]
  }
 ],
 "metadata": {
  "kernelspec": {
   "display_name": "Python 3",
   "language": "python",
   "name": "python3"
  },
  "language_info": {
   "codemirror_mode": {
    "name": "ipython",
    "version": 3
   },
   "file_extension": ".py",
   "mimetype": "text/x-python",
   "name": "python",
   "nbconvert_exporter": "python",
   "pygments_lexer": "ipython3",
   "version": "3.10.11"
  }
 },
 "nbformat": 4,
 "nbformat_minor": 2
}
