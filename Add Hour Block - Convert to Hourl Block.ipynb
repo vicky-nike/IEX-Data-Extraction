{
 "cells": [
  {
   "cell_type": "markdown",
   "metadata": {},
   "source": [
    "Convert TimeBlock to Hour Format\n"
   ]
  },
  {
   "cell_type": "code",
   "execution_count": 14,
   "metadata": {},
   "outputs": [
    {
     "name": "stdout",
     "output_type": "stream",
     "text": [
      "             Date  Time Block  Hour       A1       A2       E1       E2  \\\n",
      "0      01/04/2018           1     1  3450.44  3450.44  3450.44  3450.44   \n",
      "1      01/04/2018           2     1  3600.70  3600.70  3600.70  3600.70   \n",
      "2      01/04/2018           3     1  3641.62  3641.62  3641.62  3641.62   \n",
      "3      01/04/2018           4     1  3498.46  3498.46  3498.46  3498.46   \n",
      "4      01/04/2018           5     2  3398.37  3398.37  3398.37  3398.37   \n",
      "...           ...         ...   ...      ...      ...      ...      ...   \n",
      "35035  31/03/2019          92    23  3637.60  3637.60  3637.60  3637.60   \n",
      "35036  31/03/2019          93    24  3637.77  3637.77  3637.77  3637.77   \n",
      "35037  31/03/2019          94    24  3758.22  3758.22  3758.22  3758.22   \n",
      "35038  31/03/2019          95    24  3758.10  3758.10  3758.10  3758.10   \n",
      "35039  31/03/2019          96    24  3758.61  3758.61  3758.61  3758.61   \n",
      "\n",
      "            N1       N2       N3       S1       S2       S3       W1       W2  \\\n",
      "0      3450.44  3450.44  3450.44  3450.44  3450.44  3450.44  3450.44  3450.44   \n",
      "1      3600.70  3600.70  3600.70  3600.70  3600.70  3600.70  3600.70  3600.70   \n",
      "2      3641.62  3641.62  3641.62  3641.62  3641.62  3641.62  3641.62  3641.62   \n",
      "3      3498.46  3498.46  3498.46  3498.46  3498.46  3498.46  3498.46  3498.46   \n",
      "4      3398.37  3398.37  3398.37  3398.37  3398.37  3398.37  3398.37  3398.37   \n",
      "...        ...      ...      ...      ...      ...      ...      ...      ...   \n",
      "35035  3637.60  3637.60  3637.60  5515.96  5515.96  5515.96  3637.60  3637.60   \n",
      "35036  3637.77  3637.77  3637.77  5500.58  5500.58  5500.58  3637.77  3637.77   \n",
      "35037  3758.22  3758.22  3758.22  5500.29  5500.29  5500.29  3758.22  3758.22   \n",
      "35038  3758.10  3758.10  3758.10  5500.59  5500.59  5500.59  3758.10  3758.10   \n",
      "35039  3758.61  3758.61  3758.61  4516.60  4516.60  4516.60  3758.61  3758.61   \n",
      "\n",
      "            W3      MCP  \n",
      "0      3450.44  3450.44  \n",
      "1      3600.70  3600.70  \n",
      "2      3641.62  3641.62  \n",
      "3      3498.46  3498.46  \n",
      "4      3398.37  3398.37  \n",
      "...        ...      ...  \n",
      "35035  3637.60  4071.07  \n",
      "35036  3637.77  4067.65  \n",
      "35037  3758.22  4160.24  \n",
      "35038  3758.10  4160.21  \n",
      "35039  3758.61  3933.53  \n",
      "\n",
      "[35040 rows x 17 columns]\n"
     ]
    }
   ],
   "source": [
    "import pandas as pd\n",
    "import numpy as np\n",
    "\n",
    "filename = \"IEX DAM FY19\"\n",
    "\n",
    "df = pd.read_csv(filename+\".csv\")\n",
    "df.insert(2, 'Hour', np.nan)\n",
    "\n",
    "# Insert a new column named \"Hour\" and convert the 1-96 time block to 1-24 hour format\n",
    "df['Hour'] = ((df['Time Block'] - 1) // 4) + 1\n",
    "\n",
    "print(df)"
   ]
  },
  {
   "cell_type": "markdown",
   "metadata": {},
   "source": [
    "Converting whole Dataset to Hourly data by taking average"
   ]
  },
  {
   "cell_type": "code",
   "execution_count": 15,
   "metadata": {},
   "outputs": [],
   "source": [
    "# Take the average of the same timestamp using the hour column\n",
    "average_df = df.groupby(['Date', 'Hour'])['MCP'].mean().reset_index()\n",
    "\n",
    "average_df.to_csv(filename+\".csv\", index=False, index_label=None)"
   ]
  },
  {
   "cell_type": "markdown",
   "metadata": {},
   "source": [
    "To Get sum of Energy"
   ]
  },
  {
   "cell_type": "code",
   "execution_count": 42,
   "metadata": {},
   "outputs": [],
   "source": [
    "# Take the average of the same timestamp using the hour column\n",
    "sum_df = df.groupby(['Date', 'Hour'])['MCP'].sum().reset_index()\n",
    "\n",
    "sum_df.to_csv(\"1_\"+filename, index=False, index_label=None)"
   ]
  }
 ],
 "metadata": {
  "kernelspec": {
   "display_name": "Python 3",
   "language": "python",
   "name": "python3"
  },
  "language_info": {
   "codemirror_mode": {
    "name": "ipython",
    "version": 3
   },
   "file_extension": ".py",
   "mimetype": "text/x-python",
   "name": "python",
   "nbconvert_exporter": "python",
   "pygments_lexer": "ipython3",
   "version": "3.10.11"
  }
 },
 "nbformat": 4,
 "nbformat_minor": 2
}
