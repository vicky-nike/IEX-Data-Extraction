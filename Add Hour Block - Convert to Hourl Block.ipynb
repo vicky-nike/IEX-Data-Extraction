{
 "cells": [
  {
   "cell_type": "markdown",
   "metadata": {},
   "source": [
    "Convert TimeBlock to Hour Format\n"
   ]
  },
  {
   "cell_type": "code",
   "execution_count": 1,
   "metadata": {},
   "outputs": [
    {
     "name": "stdout",
     "output_type": "stream",
     "text": [
      "             Date  Time Block  Hour      MCP\n",
      "0      01/04/2023           1     1  5487.60\n",
      "1      01/04/2023           2     1  6043.92\n",
      "2      01/04/2023           3     1  6668.40\n",
      "3      01/04/2023           4     1  6668.23\n",
      "4      01/04/2023           5     2  6195.77\n",
      "...           ...         ...   ...      ...\n",
      "35131  31/03/2024          92    23  5499.13\n",
      "35132  31/03/2024          93    24  5499.26\n",
      "35133  31/03/2024          94    24  5499.72\n",
      "35134  31/03/2024          95    24  5599.32\n",
      "35135  31/03/2024          96    24  6254.44\n",
      "\n",
      "[35136 rows x 4 columns]\n"
     ]
    }
   ],
   "source": [
    "import pandas as pd\n",
    "import numpy as np\n",
    "\n",
    "filename = \"IEX DAM FY24.csv\"\n",
    "\n",
    "df = pd.read_csv(filename)\n",
    "df.insert(2, 'Hour', np.nan)\n",
    "\n",
    "# Insert a new column named \"Hour\" and convert the 1-96 time block to 1-24 hour format\n",
    "df['Hour'] = ((df['Time Block'] - 1) // 4) + 1\n",
    "\n",
    "print(df)"
   ]
  },
  {
   "cell_type": "markdown",
   "metadata": {},
   "source": [
    "Converting whole Dataset to Hourly data by taking average"
   ]
  },
  {
   "cell_type": "code",
   "execution_count": 2,
   "metadata": {},
   "outputs": [],
   "source": [
    "# Take the average of the same timestamp using the hour column\n",
    "average_df = df.groupby(['Date', 'Hour'])['MCP'].mean().reset_index()\n",
    "\n",
    "average_df.to_csv(filename, index=False, index_label=None)"
   ]
  },
  {
   "cell_type": "markdown",
   "metadata": {},
   "source": [
    "To Get sum of Energy"
   ]
  },
  {
   "cell_type": "code",
   "execution_count": 42,
   "metadata": {},
   "outputs": [],
   "source": [
    "# Take the average of the same timestamp using the hour column\n",
    "sum_df = df.groupby(['Date', 'Hour'])['MCP'].sum().reset_index()\n",
    "\n",
    "sum_df.to_csv(\"1_\"+filename, index=False, index_label=None)"
   ]
  }
 ],
 "metadata": {
  "kernelspec": {
   "display_name": "Python 3",
   "language": "python",
   "name": "python3"
  },
  "language_info": {
   "codemirror_mode": {
    "name": "ipython",
    "version": 3
   },
   "file_extension": ".py",
   "mimetype": "text/x-python",
   "name": "python",
   "nbconvert_exporter": "python",
   "pygments_lexer": "ipython3",
   "version": "3.10.11"
  }
 },
 "nbformat": 4,
 "nbformat_minor": 2
}
